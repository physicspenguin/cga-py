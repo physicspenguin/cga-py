{
 "cells": [
  {
   "cell_type": "code",
   "execution_count": 3,
   "id": "685d5244",
   "metadata": {},
   "outputs": [
    {
     "name": "stdout",
     "output_type": "stream",
     "text": [
      "%pylab is deprecated, use %matplotlib inline and import the required libraries.\n",
      "Populating the interactive namespace from numpy and matplotlib\n"
     ]
    }
   ],
   "source": [
    "%pylab inline"
   ]
  },
  {
   "cell_type": "code",
   "execution_count": 29,
   "id": "3e6ee283",
   "metadata": {},
   "outputs": [],
   "source": [
    "from cga_py import *\n",
    "from numba import jit, njit, prange"
   ]
  },
  {
   "cell_type": "code",
   "execution_count": 54,
   "id": "f1b1b46a",
   "metadata": {},
   "outputs": [],
   "source": [
    "#@jit(cache = True, parallel = True, nogil = True)\n",
    "def point_p_act(points, param, poly):\n",
    "    p = points.copy()\n",
    "    for i in prange(p.shape[0]):\n",
    "        p[i] = point_to_cartesian(poly_act(param, poly, point(p[i])))\n",
    "    return p\n",
    "#@vectorize\n",
    "#def point_p_act(point, param, poly):\n",
    "#    p = point.copy()\n",
    "#    \n",
    "#    return point_to_cartesian(poly_act(param, poly, point(p)))\n",
    "    \n"
   ]
  },
  {
   "cell_type": "code",
   "execution_count": 41,
   "id": "274da492",
   "metadata": {},
   "outputs": [],
   "source": [
    "@njit(parallel = True, cache = True)\n",
    "def generate_points (start, end, subd):\n",
    "    points = np.linspace(start, end, subd)\n",
    "    plot_points = np.zeros((subd**3,3))\n",
    "    colors = np.ones((subd**3,4))\n",
    "    for x in prange(subd):\n",
    "        for y in range(subd):\n",
    "            for z in range(subd):\n",
    "                plot_points[subd*subd*x+subd*y+z,0] = points[x]\n",
    "                plot_points[subd*subd*x+subd*y+z,1] = points[y]\n",
    "                plot_points[subd*subd*x+subd*y+z,2] = points[z]\n",
    "                colors[subd*subd*x+subd*y+z,0] = points[x]\n",
    "                colors[subd*subd*x+subd*y+z,1] = points[y]\n",
    "                colors[subd*subd*x+subd*y+z,2] = points[z]\n",
    "    return plot_points, ((colors-start)/(end-start))\n"
   ]
  },
  {
   "cell_type": "code",
   "execution_count": 49,
   "id": "ff501572",
   "metadata": {},
   "outputs": [],
   "source": [
    "points, cols = generate_points(-1,1,10)"
   ]
  },
  {
   "cell_type": "code",
   "execution_count": 50,
   "id": "c8c2df6d",
   "metadata": {},
   "outputs": [],
   "source": [
    "q = iso_scale(point([0,0,0]))"
   ]
  },
  {
   "cell_type": "code",
   "execution_count": 56,
   "id": "b19df96f",
   "metadata": {},
   "outputs": [
    {
     "name": "stdout",
     "output_type": "stream",
     "text": [
      "CPU times: user 811 ms, sys: 10.2 ms, total: 821 ms\n",
      "Wall time: 801 ms\n"
     ]
    },
    {
     "name": "stderr",
     "output_type": "stream",
     "text": [
      "/tmp/ipykernel_1417853/107030533.py:5: ComplexWarning: Casting complex values to real discards the imaginary part\n",
      "  p[i] = point_to_cartesian(poly_act(param, poly, point(p[i])))\n"
     ]
    },
    {
     "data": {
      "text/plain": [
       "array([[ 1.66666667,  1.66666667,  1.66666667],\n",
       "       [ 1.66666667,  1.66666667,  1.2962963 ],\n",
       "       [ 1.66666667,  1.66666667,  0.92592593],\n",
       "       ...,\n",
       "       [-1.66666667, -1.66666667, -0.92592593],\n",
       "       [-1.66666667, -1.66666667, -1.2962963 ],\n",
       "       [-1.66666667, -1.66666667, -1.66666667]])"
      ]
     },
     "execution_count": 56,
     "metadata": {},
     "output_type": "execute_result"
    }
   ],
   "source": [
    "%%time\n",
    "point_p_act(points,4,[1,q])"
   ]
  },
  {
   "cell_type": "code",
   "execution_count": null,
   "id": "95361428",
   "metadata": {},
   "outputs": [],
   "source": []
  }
 ],
 "metadata": {
  "kernelspec": {
   "display_name": "Python 3 (ipykernel)",
   "language": "python",
   "name": "python3"
  },
  "language_info": {
   "codemirror_mode": {
    "name": "ipython",
    "version": 3
   },
   "file_extension": ".py",
   "mimetype": "text/x-python",
   "name": "python",
   "nbconvert_exporter": "python",
   "pygments_lexer": "ipython3",
   "version": "3.10.2"
  }
 },
 "nbformat": 4,
 "nbformat_minor": 5
}
