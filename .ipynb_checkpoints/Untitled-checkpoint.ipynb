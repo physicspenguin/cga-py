{
 "cells": [
  {
   "cell_type": "code",
   "execution_count": 1,
   "id": "685d5244",
   "metadata": {},
   "outputs": [
    {
     "name": "stdout",
     "output_type": "stream",
     "text": [
      "%pylab is deprecated, use %matplotlib inline and import the required libraries.\n",
      "Populating the interactive namespace from numpy and matplotlib\n"
     ]
    }
   ],
   "source": [
    "%pylab inline"
   ]
  },
  {
   "cell_type": "code",
   "execution_count": 2,
   "id": "3e6ee283",
   "metadata": {},
   "outputs": [],
   "source": [
    "from cga_py import *\n",
    "from numba import jit, njit, prange\n",
    "import numba as nb\n",
    "import multiprocessing as mp\n",
    "import joblib as jl\n",
    "import time as t\n",
    "import os"
   ]
  },
  {
   "cell_type": "code",
   "execution_count": 3,
   "id": "f1b1b46a",
   "metadata": {},
   "outputs": [],
   "source": [
    "@njit(parallel = True, cache = True)\n",
    "def generate_points (start, end, subd):\n",
    "    points = np.linspace(start, end, subd)\n",
    "    plot_points = np.zeros((subd**3,3))\n",
    "    colors = np.ones((subd**3,4))\n",
    "    for x in prange(subd):\n",
    "        for y in range(subd):\n",
    "            for z in range(subd):\n",
    "                plot_points[subd*subd*x+subd*y+z,0] = points[x]\n",
    "                plot_points[subd*subd*x+subd*y+z,1] = points[y]\n",
    "                plot_points[subd*subd*x+subd*y+z,2] = points[z]\n",
    "                colors[subd*subd*x+subd*y+z,0] = points[x]\n",
    "                colors[subd*subd*x+subd*y+z,1] = points[y]\n",
    "                colors[subd*subd*x+subd*y+z,2] = points[z]\n",
    "    return plot_points, ((colors-start)/(end-start))"
   ]
  },
  {
   "cell_type": "code",
   "execution_count": 4,
   "id": "29a5b9cd",
   "metadata": {},
   "outputs": [],
   "source": [
    "import asyncio\n",
    "\n",
    "def background(f):\n",
    "    def wrapped(*args, **kwargs):\n",
    "        return asyncio.get_event_loop().run_in_executor(None, f, *args, **kwargs)\n",
    "\n",
    "    return wrapped"
   ]
  },
  {
   "cell_type": "code",
   "execution_count": null,
   "id": "274da492",
   "metadata": {},
   "outputs": [],
   "source": [
    "def point_p_act(points, param, poly): \n",
    "    def fun (i):\n",
    "        return point_to_cartesian(poly_act(4, [1,q], point(points[i])))\n",
    "    return np.array(mp.Pool().map(fun, range(points.shape[0])))\n",
    "\n",
    "def point_p_act_opt(points, param, poly):\n",
    "    p = points.copy()\n",
    "    indices = np.arange(p.shape[0])\n",
    "    #@background        \n",
    "    def fun (start, step):\n",
    "        for i in np.arange(start,p.shape[0],step=step):\n",
    "            p[i] = point_to_cartesian(poly_act(param, poly, point(p[i])))\n",
    "    #for i in range(p.shape[0]):\n",
    "        #p[i] = point_to_cartesian(poly_act(param, poly, point(p[i])))\n",
    "        #fun(i)\n",
    "    processes = []\n",
    "    for i in range(os.cpu_count()):\n",
    "        processes.append(mp.Process(target = fun, args =(i,os.cpu_count())))\n",
    "    for process in processes:\n",
    "        process.start()\n",
    "    for process in processes:\n",
    "        process.join()\n",
    "        \n",
    "    \n",
    "    #np.vectorize(fun)(range(p.shape[0]))\n",
    "    #map(fun,indices)\n",
    "    #mp.Pool().map_async(fun,range(1000))\n",
    "    #jl.Parallel(n_jobs=12)(jl.delayed(fun)(i) for i in range(p.shape[0]))\n",
    "    return p"
   ]
  },
  {
   "cell_type": "code",
   "execution_count": 6,
   "id": "ff501572",
   "metadata": {},
   "outputs": [],
   "source": [
    "points, cols = generate_points(-1,1,10)\n",
    "points = np.array(points,dtype = complex)"
   ]
  },
  {
   "cell_type": "code",
   "execution_count": 7,
   "id": "c8c2df6d",
   "metadata": {},
   "outputs": [],
   "source": [
    "q = iso_scale(point([0,0,0]))"
   ]
  },
  {
   "cell_type": "code",
   "execution_count": 46,
   "id": "b19df96f",
   "metadata": {},
   "outputs": [
    {
     "name": "stdout",
     "output_type": "stream",
     "text": [
      "CPU times: user 14.2 ms, sys: 57.8 ms, total: 72 ms\n",
      "Wall time: 121 ms\n",
      "[[ 1.66666667+0.j  1.66666667+0.j  1.66666667+0.j]\n",
      " [ 1.66666667+0.j  1.66666667+0.j  1.2962963 +0.j]\n",
      " [ 1.66666667+0.j  1.66666667+0.j  0.92592593+0.j]\n",
      " ...\n",
      " [-1.66666667+0.j -1.66666667+0.j -0.92592593+0.j]\n",
      " [-1.66666667+0.j -1.66666667+0.j -1.2962963 +0.j]\n",
      " [-1.66666667+0.j -1.66666667+0.j -1.66666667+0.j]]\n"
     ]
    }
   ],
   "source": [
    "%time p1 = point_p_act(points,4,[1,q])\n",
    "print(p1)\n",
    "#%time p2 = point_p_act_opt(points,4,[1,q])\n",
    "#t.sleep(0.4)\n",
    "#print(p2)"
   ]
  },
  {
   "cell_type": "code",
   "execution_count": 8,
   "id": "0148d5d0",
   "metadata": {
    "collapsed": true
   },
   "outputs": [
    {
     "ename": "NameError",
     "evalue": "name 'p2' is not defined",
     "output_type": "error",
     "traceback": [
      "\u001b[0;31m---------------------------------------------------------------------------\u001b[0m",
      "\u001b[0;31mNameError\u001b[0m                                 Traceback (most recent call last)",
      "Input \u001b[0;32mIn [8]\u001b[0m, in \u001b[0;36m<cell line: 1>\u001b[0;34m()\u001b[0m\n\u001b[0;32m----> 1\u001b[0m \u001b[38;5;28mprint\u001b[39m(\u001b[43mp2\u001b[49m)\n",
      "\u001b[0;31mNameError\u001b[0m: name 'p2' is not defined"
     ]
    }
   ],
   "source": [
    "print(p2)"
   ]
  },
  {
   "cell_type": "code",
   "execution_count": 9,
   "id": "95361428",
   "metadata": {
    "collapsed": true
   },
   "outputs": [
    {
     "name": "stderr",
     "output_type": "stream",
     "text": [
      "Process Process-935:\n",
      "Process Process-933:\n",
      "Process Process-934:\n",
      "Process Process-932:\n",
      "Process Process-931:\n",
      "Process Process-936:\n",
      "Traceback (most recent call last):\n",
      "Traceback (most recent call last):\n",
      "Traceback (most recent call last):\n",
      "Traceback (most recent call last):\n",
      "  File \"/mnt/Data/Documents/Studium/Mathe/Bachelor/BachelorSeminar/CGApy/cga_py/multivector.py\", line 1065, in __add__\n",
      "    return cga_object(self.coeff + other.coeff)\n",
      "  File \"/mnt/Data/Documents/Studium/Mathe/Bachelor/BachelorSeminar/CGApy/cga_py/multivector.py\", line 1065, in __add__\n",
      "    return cga_object(self.coeff + other.coeff)\n",
      "  File \"/mnt/Data/Documents/Studium/Mathe/Bachelor/BachelorSeminar/CGApy/cga_py/multivector.py\", line 1090, in __mul__\n",
      "    return cga_object(mul(self.coeff,other.coeff))\n",
      "  File \"/mnt/Data/Documents/Studium/Mathe/Bachelor/BachelorSeminar/CGApy/cga_py/multivector.py\", line 1090, in __mul__\n",
      "    return cga_object(mul(self.coeff,other.coeff))\n",
      "  File \"/mnt/Data/Documents/Studium/Mathe/Bachelor/BachelorSeminar/CGApy/cga_py/multivector.py\", line 985, in __init__\n",
      "    def __init__(self, gen=[0], even = False):\n"
     ]
    },
    {
     "ename": "KeyboardInterrupt",
     "evalue": "",
     "output_type": "error",
     "traceback": [
      "\u001b[0;31m---------------------------------------------------------------------------\u001b[0m",
      "\u001b[0;31mKeyboardInterrupt\u001b[0m                         Traceback (most recent call last)",
      "Input \u001b[0;32mIn [9]\u001b[0m, in \u001b[0;36m<cell line: 1>\u001b[0;34m()\u001b[0m\n\u001b[0;32m----> 1\u001b[0m \u001b[43mget_ipython\u001b[49m\u001b[43m(\u001b[49m\u001b[43m)\u001b[49m\u001b[38;5;241;43m.\u001b[39;49m\u001b[43mrun_line_magic\u001b[49m\u001b[43m(\u001b[49m\u001b[38;5;124;43m'\u001b[39;49m\u001b[38;5;124;43mtimeit\u001b[39;49m\u001b[38;5;124;43m'\u001b[39;49m\u001b[43m,\u001b[49m\u001b[43m \u001b[49m\u001b[38;5;124;43m'\u001b[39;49m\u001b[38;5;124;43mpoint_p_act_opt(points,4,[1,q])\u001b[39;49m\u001b[38;5;124;43m'\u001b[39;49m\u001b[43m)\u001b[49m\n",
      "File \u001b[0;32m/usr/lib/python3.10/site-packages/IPython/core/interactiveshell.py:2285\u001b[0m, in \u001b[0;36mInteractiveShell.run_line_magic\u001b[0;34m(self, magic_name, line, _stack_depth)\u001b[0m\n\u001b[1;32m   2283\u001b[0m     kwargs[\u001b[38;5;124m'\u001b[39m\u001b[38;5;124mlocal_ns\u001b[39m\u001b[38;5;124m'\u001b[39m] \u001b[38;5;241m=\u001b[39m \u001b[38;5;28mself\u001b[39m\u001b[38;5;241m.\u001b[39mget_local_scope(stack_depth)\n\u001b[1;32m   2284\u001b[0m \u001b[38;5;28;01mwith\u001b[39;00m \u001b[38;5;28mself\u001b[39m\u001b[38;5;241m.\u001b[39mbuiltin_trap:\n\u001b[0;32m-> 2285\u001b[0m     result \u001b[38;5;241m=\u001b[39m \u001b[43mfn\u001b[49m\u001b[43m(\u001b[49m\u001b[38;5;241;43m*\u001b[39;49m\u001b[43margs\u001b[49m\u001b[43m,\u001b[49m\u001b[43m \u001b[49m\u001b[38;5;241;43m*\u001b[39;49m\u001b[38;5;241;43m*\u001b[39;49m\u001b[43mkwargs\u001b[49m\u001b[43m)\u001b[49m\n\u001b[1;32m   2286\u001b[0m \u001b[38;5;28;01mreturn\u001b[39;00m result\n",
      "File \u001b[0;32m/usr/lib/python3.10/site-packages/IPython/core/magics/execution.py:1166\u001b[0m, in \u001b[0;36mExecutionMagics.timeit\u001b[0;34m(self, line, cell, local_ns)\u001b[0m\n\u001b[1;32m   1163\u001b[0m         \u001b[38;5;28;01mif\u001b[39;00m time_number \u001b[38;5;241m>\u001b[39m\u001b[38;5;241m=\u001b[39m \u001b[38;5;241m0.2\u001b[39m:\n\u001b[1;32m   1164\u001b[0m             \u001b[38;5;28;01mbreak\u001b[39;00m\n\u001b[0;32m-> 1166\u001b[0m all_runs \u001b[38;5;241m=\u001b[39m \u001b[43mtimer\u001b[49m\u001b[38;5;241;43m.\u001b[39;49m\u001b[43mrepeat\u001b[49m\u001b[43m(\u001b[49m\u001b[43mrepeat\u001b[49m\u001b[43m,\u001b[49m\u001b[43m \u001b[49m\u001b[43mnumber\u001b[49m\u001b[43m)\u001b[49m\n\u001b[1;32m   1167\u001b[0m best \u001b[38;5;241m=\u001b[39m \u001b[38;5;28mmin\u001b[39m(all_runs) \u001b[38;5;241m/\u001b[39m number\n\u001b[1;32m   1168\u001b[0m worst \u001b[38;5;241m=\u001b[39m \u001b[38;5;28mmax\u001b[39m(all_runs) \u001b[38;5;241m/\u001b[39m number\n",
      "File \u001b[0;32m/usr/lib/python3.10/timeit.py:206\u001b[0m, in \u001b[0;36mTimer.repeat\u001b[0;34m(self, repeat, number)\u001b[0m\n\u001b[1;32m    204\u001b[0m r \u001b[38;5;241m=\u001b[39m []\n\u001b[1;32m    205\u001b[0m \u001b[38;5;28;01mfor\u001b[39;00m i \u001b[38;5;129;01min\u001b[39;00m \u001b[38;5;28mrange\u001b[39m(repeat):\n\u001b[0;32m--> 206\u001b[0m     t \u001b[38;5;241m=\u001b[39m \u001b[38;5;28;43mself\u001b[39;49m\u001b[38;5;241;43m.\u001b[39;49m\u001b[43mtimeit\u001b[49m\u001b[43m(\u001b[49m\u001b[43mnumber\u001b[49m\u001b[43m)\u001b[49m\n\u001b[1;32m    207\u001b[0m     r\u001b[38;5;241m.\u001b[39mappend(t)\n\u001b[1;32m    208\u001b[0m \u001b[38;5;28;01mreturn\u001b[39;00m r\n",
      "File \u001b[0;32m/usr/lib/python3.10/site-packages/IPython/core/magics/execution.py:156\u001b[0m, in \u001b[0;36mTimer.timeit\u001b[0;34m(self, number)\u001b[0m\n\u001b[1;32m    154\u001b[0m gc\u001b[38;5;241m.\u001b[39mdisable()\n\u001b[1;32m    155\u001b[0m \u001b[38;5;28;01mtry\u001b[39;00m:\n\u001b[0;32m--> 156\u001b[0m     timing \u001b[38;5;241m=\u001b[39m \u001b[38;5;28;43mself\u001b[39;49m\u001b[38;5;241;43m.\u001b[39;49m\u001b[43minner\u001b[49m\u001b[43m(\u001b[49m\u001b[43mit\u001b[49m\u001b[43m,\u001b[49m\u001b[43m \u001b[49m\u001b[38;5;28;43mself\u001b[39;49m\u001b[38;5;241;43m.\u001b[39;49m\u001b[43mtimer\u001b[49m\u001b[43m)\u001b[49m\n\u001b[1;32m    157\u001b[0m \u001b[38;5;28;01mfinally\u001b[39;00m:\n\u001b[1;32m    158\u001b[0m     \u001b[38;5;28;01mif\u001b[39;00m gcold:\n",
      "File \u001b[0;32m<magic-timeit>:1\u001b[0m, in \u001b[0;36minner\u001b[0;34m(_it, _timer)\u001b[0m\n",
      "Input \u001b[0;32mIn [5]\u001b[0m, in \u001b[0;36mpoint_p_act_opt\u001b[0;34m(points, param, poly)\u001b[0m\n\u001b[1;32m     27\u001b[0m     process\u001b[38;5;241m.\u001b[39mstart()\n\u001b[1;32m     28\u001b[0m \u001b[38;5;28;01mfor\u001b[39;00m process \u001b[38;5;129;01min\u001b[39;00m processes:\n\u001b[0;32m---> 29\u001b[0m     \u001b[43mprocess\u001b[49m\u001b[38;5;241;43m.\u001b[39;49m\u001b[43mjoin\u001b[49m\u001b[43m(\u001b[49m\u001b[43m)\u001b[49m\n\u001b[1;32m     32\u001b[0m \u001b[38;5;66;03m#np.vectorize(fun)(range(p.shape[0]))\u001b[39;00m\n\u001b[1;32m     33\u001b[0m \u001b[38;5;66;03m#map(fun,indices)\u001b[39;00m\n\u001b[1;32m     34\u001b[0m \u001b[38;5;66;03m#mp.Pool().map_async(fun,range(1000))\u001b[39;00m\n\u001b[1;32m     35\u001b[0m \u001b[38;5;66;03m#jl.Parallel(n_jobs=12)(jl.delayed(fun)(i) for i in range(p.shape[0]))\u001b[39;00m\n\u001b[1;32m     36\u001b[0m \u001b[38;5;28;01mreturn\u001b[39;00m p\n",
      "File \u001b[0;32m/usr/lib/python3.10/multiprocessing/process.py:149\u001b[0m, in \u001b[0;36mBaseProcess.join\u001b[0;34m(self, timeout)\u001b[0m\n\u001b[1;32m    147\u001b[0m \u001b[38;5;28;01massert\u001b[39;00m \u001b[38;5;28mself\u001b[39m\u001b[38;5;241m.\u001b[39m_parent_pid \u001b[38;5;241m==\u001b[39m os\u001b[38;5;241m.\u001b[39mgetpid(), \u001b[38;5;124m'\u001b[39m\u001b[38;5;124mcan only join a child process\u001b[39m\u001b[38;5;124m'\u001b[39m\n\u001b[1;32m    148\u001b[0m \u001b[38;5;28;01massert\u001b[39;00m \u001b[38;5;28mself\u001b[39m\u001b[38;5;241m.\u001b[39m_popen \u001b[38;5;129;01mis\u001b[39;00m \u001b[38;5;129;01mnot\u001b[39;00m \u001b[38;5;28;01mNone\u001b[39;00m, \u001b[38;5;124m'\u001b[39m\u001b[38;5;124mcan only join a started process\u001b[39m\u001b[38;5;124m'\u001b[39m\n\u001b[0;32m--> 149\u001b[0m res \u001b[38;5;241m=\u001b[39m \u001b[38;5;28;43mself\u001b[39;49m\u001b[38;5;241;43m.\u001b[39;49m\u001b[43m_popen\u001b[49m\u001b[38;5;241;43m.\u001b[39;49m\u001b[43mwait\u001b[49m\u001b[43m(\u001b[49m\u001b[43mtimeout\u001b[49m\u001b[43m)\u001b[49m\n\u001b[1;32m    150\u001b[0m \u001b[38;5;28;01mif\u001b[39;00m res \u001b[38;5;129;01mis\u001b[39;00m \u001b[38;5;129;01mnot\u001b[39;00m \u001b[38;5;28;01mNone\u001b[39;00m:\n\u001b[1;32m    151\u001b[0m     _children\u001b[38;5;241m.\u001b[39mdiscard(\u001b[38;5;28mself\u001b[39m)\n",
      "File \u001b[0;32m/usr/lib/python3.10/multiprocessing/popen_fork.py:43\u001b[0m, in \u001b[0;36mPopen.wait\u001b[0;34m(self, timeout)\u001b[0m\n\u001b[1;32m     41\u001b[0m             \u001b[38;5;28;01mreturn\u001b[39;00m \u001b[38;5;28;01mNone\u001b[39;00m\n\u001b[1;32m     42\u001b[0m     \u001b[38;5;66;03m# This shouldn't block if wait() returned successfully.\u001b[39;00m\n\u001b[0;32m---> 43\u001b[0m     \u001b[38;5;28;01mreturn\u001b[39;00m \u001b[38;5;28;43mself\u001b[39;49m\u001b[38;5;241;43m.\u001b[39;49m\u001b[43mpoll\u001b[49m\u001b[43m(\u001b[49m\u001b[43mos\u001b[49m\u001b[38;5;241;43m.\u001b[39;49m\u001b[43mWNOHANG\u001b[49m\u001b[43m \u001b[49m\u001b[38;5;28;43;01mif\u001b[39;49;00m\u001b[43m \u001b[49m\u001b[43mtimeout\u001b[49m\u001b[43m \u001b[49m\u001b[38;5;241;43m==\u001b[39;49m\u001b[43m \u001b[49m\u001b[38;5;241;43m0.0\u001b[39;49m\u001b[43m \u001b[49m\u001b[38;5;28;43;01melse\u001b[39;49;00m\u001b[43m \u001b[49m\u001b[38;5;241;43m0\u001b[39;49m\u001b[43m)\u001b[49m\n\u001b[1;32m     44\u001b[0m \u001b[38;5;28;01mreturn\u001b[39;00m \u001b[38;5;28mself\u001b[39m\u001b[38;5;241m.\u001b[39mreturncode\n",
      "File \u001b[0;32m/usr/lib/python3.10/multiprocessing/popen_fork.py:27\u001b[0m, in \u001b[0;36mPopen.poll\u001b[0;34m(self, flag)\u001b[0m\n\u001b[1;32m     25\u001b[0m \u001b[38;5;28;01mif\u001b[39;00m \u001b[38;5;28mself\u001b[39m\u001b[38;5;241m.\u001b[39mreturncode \u001b[38;5;129;01mis\u001b[39;00m \u001b[38;5;28;01mNone\u001b[39;00m:\n\u001b[1;32m     26\u001b[0m     \u001b[38;5;28;01mtry\u001b[39;00m:\n\u001b[0;32m---> 27\u001b[0m         pid, sts \u001b[38;5;241m=\u001b[39m \u001b[43mos\u001b[49m\u001b[38;5;241;43m.\u001b[39;49m\u001b[43mwaitpid\u001b[49m\u001b[43m(\u001b[49m\u001b[38;5;28;43mself\u001b[39;49m\u001b[38;5;241;43m.\u001b[39;49m\u001b[43mpid\u001b[49m\u001b[43m,\u001b[49m\u001b[43m \u001b[49m\u001b[43mflag\u001b[49m\u001b[43m)\u001b[49m\n\u001b[1;32m     28\u001b[0m     \u001b[38;5;28;01mexcept\u001b[39;00m \u001b[38;5;167;01mOSError\u001b[39;00m:\n\u001b[1;32m     29\u001b[0m         \u001b[38;5;66;03m# Child process not yet created. See #1731717\u001b[39;00m\n\u001b[1;32m     30\u001b[0m         \u001b[38;5;66;03m# e.errno == errno.ECHILD == 10\u001b[39;00m\n\u001b[1;32m     31\u001b[0m         \u001b[38;5;28;01mreturn\u001b[39;00m \u001b[38;5;28;01mNone\u001b[39;00m\n",
      "\u001b[0;31mKeyboardInterrupt\u001b[0m: "
     ]
    },
    {
     "name": "stderr",
     "output_type": "stream",
     "text": [
      "  File \"/mnt/Data/Documents/Studium/Mathe/Bachelor/BachelorSeminar/CGApy/cga_py/multivector.py\", line 1044, in __init__\n",
      "    self.coeff[i] = complex(cof[i])\n",
      "AttributeError: 'complex' object has no attribute 'coeff'\n",
      "AttributeError: 'complex' object has no attribute 'coeff'\n",
      "KeyboardInterrupt\n",
      "KeyboardInterrupt\n",
      "\n",
      "During handling of the above exception, another exception occurred:\n",
      "\n",
      "\n",
      "During handling of the above exception, another exception occurred:\n",
      "\n",
      "\n",
      "During handling of the above exception, another exception occurred:\n",
      "\n",
      "\n",
      "During handling of the above exception, another exception occurred:\n",
      "\n",
      "Traceback (most recent call last):\n",
      "Traceback (most recent call last):\n",
      "Traceback (most recent call last):\n",
      "  File \"/usr/lib/python3.10/multiprocessing/process.py\", line 315, in _bootstrap\n",
      "    self.run()\n",
      "Traceback (most recent call last):\n",
      "  File \"/usr/lib/python3.10/multiprocessing/process.py\", line 315, in _bootstrap\n",
      "    self.run()\n",
      "  File \"/usr/lib/python3.10/multiprocessing/process.py\", line 315, in _bootstrap\n",
      "    self.run()\n",
      "  File \"/usr/lib/python3.10/multiprocessing/process.py\", line 108, in run\n",
      "    self._target(*self._args, **self._kwargs)\n",
      "  File \"/usr/lib/python3.10/multiprocessing/process.py\", line 108, in run\n",
      "    self._target(*self._args, **self._kwargs)\n",
      "  File \"/usr/lib/python3.10/multiprocessing/process.py\", line 108, in run\n",
      "    self._target(*self._args, **self._kwargs)\n",
      "  File \"/tmp/ipykernel_3042213/3594493642.py\", line 19, in fun\n",
      "    p[i] = point_to_cartesian(poly_act(param, poly, point(p[i])))\n",
      "  File \"/tmp/ipykernel_3042213/3594493642.py\", line 19, in fun\n",
      "    p[i] = point_to_cartesian(poly_act(param, poly, point(p[i])))\n",
      "  File \"/tmp/ipykernel_3042213/3594493642.py\", line 19, in fun\n",
      "    p[i] = point_to_cartesian(poly_act(param, poly, point(p[i])))\n",
      "  File \"/usr/lib/python3.10/multiprocessing/process.py\", line 315, in _bootstrap\n",
      "    self.run()\n",
      "Traceback (most recent call last):\n",
      "  File \"/mnt/Data/Documents/Studium/Mathe/Bachelor/BachelorSeminar/CGApy/cga_py/geom_generators.py\", line 28, in point\n",
      "    return (point[0]*e_1 + point[1]*e_2 + point[2]*e_3 +\n",
      "  File \"/mnt/Data/Documents/Studium/Mathe/Bachelor/BachelorSeminar/CGApy/cga_py/geom_generators.py\", line 28, in point\n",
      "    return (point[0]*e_1 + point[1]*e_2 + point[2]*e_3 +\n",
      "  File \"/mnt/Data/Documents/Studium/Mathe/Bachelor/BachelorSeminar/CGApy/cga_py/geom_generators.py\", line 28, in point\n",
      "    return (point[0]*e_1 + point[1]*e_2 + point[2]*e_3 +\n",
      "  File \"/usr/lib/python3.10/multiprocessing/process.py\", line 108, in run\n",
      "    self._target(*self._args, **self._kwargs)\n",
      "  File \"/mnt/Data/Documents/Studium/Mathe/Bachelor/BachelorSeminar/CGApy/cga_py/multivector.py\", line 1065, in __add__\n",
      "    return cga_object(self.coeff + other.coeff)\n",
      "  File \"/mnt/Data/Documents/Studium/Mathe/Bachelor/BachelorSeminar/CGApy/cga_py/multivector.py\", line 1092, in __mul__\n",
      "    return cga_object(self.coeff*other)\n",
      "Traceback (most recent call last):\n",
      "  File \"/mnt/Data/Documents/Studium/Mathe/Bachelor/BachelorSeminar/CGApy/cga_py/multivector.py\", line 1067, in __add__\n",
      "    return cga_object([other])+self\n",
      "  File \"/tmp/ipykernel_3042213/3594493642.py\", line 19, in fun\n",
      "    p[i] = point_to_cartesian(poly_act(param, poly, point(p[i])))\n",
      "  File \"/mnt/Data/Documents/Studium/Mathe/Bachelor/BachelorSeminar/CGApy/cga_py/multivector.py\", line 1092, in __mul__\n",
      "    return cga_object(self.coeff*other)\n",
      "  File \"/mnt/Data/Documents/Studium/Mathe/Bachelor/BachelorSeminar/CGApy/cga_py/multivector.py\", line 985, in __init__\n",
      "    def __init__(self, gen=[0], even = False):\n",
      "AttributeError: 'int' object has no attribute 'coeff'\n",
      "  File \"/mnt/Data/Documents/Studium/Mathe/Bachelor/BachelorSeminar/CGApy/cga_py/geom_generators.py\", line 28, in point\n",
      "    return (point[0]*e_1 + point[1]*e_2 + point[2]*e_3 +\n",
      "  File \"/mnt/Data/Documents/Studium/Mathe/Bachelor/BachelorSeminar/CGApy/cga_py/multivector.py\", line 1044, in __init__\n",
      "    self.coeff[i] = complex(cof[i])\n",
      "  File \"/usr/lib/python3.10/multiprocessing/process.py\", line 315, in _bootstrap\n",
      "    self.run()\n",
      "\n",
      "During handling of the above exception, another exception occurred:\n",
      "\n",
      "KeyboardInterrupt\n",
      "  File \"/mnt/Data/Documents/Studium/Mathe/Bachelor/BachelorSeminar/CGApy/cga_py/multivector.py\", line 1067, in __add__\n",
      "    return cga_object([other])+self\n",
      "KeyboardInterrupt\n",
      "  File \"/usr/lib/python3.10/multiprocessing/process.py\", line 108, in run\n",
      "    self._target(*self._args, **self._kwargs)\n",
      "Traceback (most recent call last):\n",
      "  File \"/mnt/Data/Documents/Studium/Mathe/Bachelor/BachelorSeminar/CGApy/cga_py/multivector.py\", line 1044, in __init__\n",
      "    self.coeff[i] = complex(cof[i])\n",
      "  File \"/mnt/Data/Documents/Studium/Mathe/Bachelor/BachelorSeminar/CGApy/cga_py/multivector.py\", line 1065, in __add__\n",
      "    return cga_object(self.coeff + other.coeff)\n",
      "  File \"/mnt/Data/Documents/Studium/Mathe/Bachelor/BachelorSeminar/CGApy/cga_py/multivector.py\", line 1044, in __init__\n",
      "    self.coeff[i] = complex(cof[i])\n",
      "  File \"/tmp/ipykernel_3042213/3594493642.py\", line 19, in fun\n",
      "    p[i] = point_to_cartesian(poly_act(param, poly, point(p[i])))\n",
      "TypeError: complex() first argument must be a string or a number, not 'cga_object'\n",
      "  File \"/mnt/Data/Documents/Studium/Mathe/Bachelor/BachelorSeminar/CGApy/cga_py/multivector.py\", line 985, in __init__\n",
      "    def __init__(self, gen=[0], even = False):\n",
      "  File \"/mnt/Data/Documents/Studium/Mathe/Bachelor/BachelorSeminar/CGApy/cga_py/kinematic_polynomials.py\", line 21, in poly_act\n",
      "    return act(sum([poly[i]*(param**i) for i in range(len(poly))]), obj)\n",
      "TypeError: complex() first argument must be a string or a number, not 'cga_object'\n",
      "KeyboardInterrupt\n",
      "  File \"/mnt/Data/Documents/Studium/Mathe/Bachelor/BachelorSeminar/CGApy/cga_py/operators.py\", line 18, in act\n",
      "    return rotator*obj*(~rotator)\n",
      "\n",
      "During handling of the above exception, another exception occurred:\n",
      "\n",
      "  File \"/mnt/Data/Documents/Studium/Mathe/Bachelor/BachelorSeminar/CGApy/cga_py/multivector.py\", line 1193, in __invert__\n",
      "    return cga_object(invert(self.coeff))\n",
      "Traceback (most recent call last):\n",
      "  File \"/mnt/Data/Documents/Studium/Mathe/Bachelor/BachelorSeminar/CGApy/cga_py/multivector.py\", line 1002, in __init__\n",
      "    self.even_indices = np.array([ 0,  6,  7,  8,  9, 10, 11, 12, 13, 14, 15, 26, 27,\n",
      "  File \"/usr/lib/python3.10/multiprocessing/process.py\", line 315, in _bootstrap\n",
      "    self.run()\n",
      "KeyboardInterrupt\n",
      "  File \"/usr/lib/python3.10/multiprocessing/process.py\", line 108, in run\n",
      "    self._target(*self._args, **self._kwargs)\n",
      "  File \"/tmp/ipykernel_3042213/3594493642.py\", line 19, in fun\n",
      "    p[i] = point_to_cartesian(poly_act(param, poly, point(p[i])))\n",
      "  File \"/mnt/Data/Documents/Studium/Mathe/Bachelor/BachelorSeminar/CGApy/cga_py/kinematic_polynomials.py\", line 21, in poly_act\n",
      "    return act(sum([poly[i]*(param**i) for i in range(len(poly))]), obj)\n",
      "  File \"/mnt/Data/Documents/Studium/Mathe/Bachelor/BachelorSeminar/CGApy/cga_py/multivector.py\", line 1067, in __add__\n",
      "    return cga_object([other])+self\n",
      "  File \"/mnt/Data/Documents/Studium/Mathe/Bachelor/BachelorSeminar/CGApy/cga_py/multivector.py\", line 1067, in __add__\n",
      "    return cga_object([other])+self\n",
      "  File \"/mnt/Data/Documents/Studium/Mathe/Bachelor/BachelorSeminar/CGApy/cga_py/multivector.py\", line 1044, in __init__\n",
      "    self.coeff[i] = complex(cof[i])\n",
      "TypeError: complex() first argument must be a string or a number, not 'cga_object'\n"
     ]
    }
   ],
   "source": [
    "%timeit point_p_act_opt(points,4,[1,q])"
   ]
  },
  {
   "cell_type": "code",
   "execution_count": 10,
   "id": "c7d79b8b",
   "metadata": {
    "scrolled": true
   },
   "outputs": [
    {
     "ename": "NameError",
     "evalue": "name 'p1' is not defined",
     "output_type": "error",
     "traceback": [
      "\u001b[0;31m---------------------------------------------------------------------------\u001b[0m",
      "\u001b[0;31mNameError\u001b[0m                                 Traceback (most recent call last)",
      "Input \u001b[0;32mIn [10]\u001b[0m, in \u001b[0;36m<cell line: 2>\u001b[0;34m()\u001b[0m\n\u001b[1;32m      1\u001b[0m i \u001b[38;5;241m=\u001b[39m \u001b[38;5;241m0\u001b[39m\n\u001b[0;32m----> 2\u001b[0m \u001b[38;5;28;01mwhile\u001b[39;00m (\u001b[43mp1\u001b[49m[i]\u001b[38;5;241m==\u001b[39mp2[i])\u001b[38;5;241m.\u001b[39mall \u001b[38;5;129;01mand\u001b[39;00m i \u001b[38;5;241m<\u001b[39m\u001b[38;5;241m999\u001b[39m:\n\u001b[1;32m      3\u001b[0m     i \u001b[38;5;241m+\u001b[39m\u001b[38;5;241m=\u001b[39m \u001b[38;5;241m1\u001b[39m\n\u001b[1;32m      4\u001b[0m \u001b[38;5;28mprint\u001b[39m(i)\n",
      "\u001b[0;31mNameError\u001b[0m: name 'p1' is not defined"
     ]
    }
   ],
   "source": [
    "i = 0\n",
    "while (p1[i]==p2[i]).all and i <999:\n",
    "    i += 1\n",
    "print(i)"
   ]
  },
  {
   "cell_type": "code",
   "execution_count": 8,
   "id": "1f188c7d",
   "metadata": {},
   "outputs": [
    {
     "data": {
      "text/plain": [
       "12"
      ]
     },
     "execution_count": 8,
     "metadata": {},
     "output_type": "execute_result"
    }
   ],
   "source": [
    "os.cpu_count()"
   ]
  },
  {
   "cell_type": "code",
   "execution_count": 12,
   "id": "bf5ea2f7",
   "metadata": {},
   "outputs": [
    {
     "name": "stdout",
     "output_type": "stream",
     "text": [
      "finished\n",
      "finished\n",
      "finished\n",
      "finished\n",
      "finished\n",
      "finished\n",
      "finished\n",
      "finished\n",
      "finished\n",
      "finished\n",
      "\n",
      "finishedfinished\n"
     ]
    }
   ],
   "source": [
    "def counter(start,step):\n",
    "    p = np.arange(10000)\n",
    "    for i in np.arange(start,p.shape[0], step = step):\n",
    "        p[i] = 2*p[i]\n",
    "    print(\"finished\")\n",
    "\n",
    "processes = []\n",
    "for i in range(os.cpu_count()):\n",
    "    processes.append(mp.Process(target = counter, args =(i,os.cpu_count())))\n",
    "for process in processes:\n",
    "    process.start()\n",
    "for process in processes:\n",
    "    process.join()"
   ]
  },
  {
   "cell_type": "code",
   "execution_count": 39,
   "id": "b8d193b6",
   "metadata": {},
   "outputs": [],
   "source": [
    "manager = mp.Manager()\n",
    "p = mp.Array('f',points.shape[0])\n",
    "#p = np.zeros_like(points)\n",
    "#indices = np.arange(p.shape[0])\n",
    "steps = []\n",
    "        \n",
    "#def f (start, step):\n",
    "    #out = np.zeros((points.shape[0],4))\n",
    "    #for i in np.arange(start,points.shape[0],step=step):\n",
    "        #p[i] = np.array([point_to_cartesian(poly_act(4, [1,q], point(points[i]))),i])\n",
    "        #steps.append(i)\n",
    "        #print(p[i])\n",
    "    #return out\n",
    "def fun (i):\n",
    "        return np.append(point_to_cartesian(poly_act(4, [1,q], point(points[i]))),[i])\n",
    "    \n",
    "def fun2 (i):\n",
    "        return point_to_cartesian(poly_act(4, [1,q], point(points[i])))\n",
    "    "
   ]
  },
  {
   "cell_type": "code",
   "execution_count": 20,
   "id": "87d9d4bb",
   "metadata": {},
   "outputs": [
    {
     "data": {
      "text/plain": [
       "array([1.66666667+0.j, 1.66666667+0.j, 0.92592593+0.j, 2.        +0.j])"
      ]
     },
     "execution_count": 20,
     "metadata": {},
     "output_type": "execute_result"
    }
   ],
   "source": [
    "fun(2)"
   ]
  },
  {
   "cell_type": "code",
   "execution_count": 74,
   "id": "94c96fd1",
   "metadata": {},
   "outputs": [],
   "source": [
    "def fu (proc,foo):\n",
    "    p = np.zeros((points.shape[0]//os.cpu_count(),3),dtype = complex)\n",
    "    for i in np.arange(proc*points.shape[0]//os.cpu_count(),points.shape[0]//os.cpu_count()):\n",
    "        p[i] = point_to_cartesian(poly_act(4, [1,q], point(points[i])))\n",
    "    return p"
   ]
  },
  {
   "cell_type": "code",
   "execution_count": 68,
   "id": "10e5b29d",
   "metadata": {},
   "outputs": [
    {
     "name": "stdout",
     "output_type": "stream",
     "text": [
      "CPU times: user 4.12 ms, sys: 61.6 ms, total: 65.7 ms\n",
      "Wall time: 73.3 ms\n"
     ]
    }
   ],
   "source": [
    "%%time\n",
    "processes = []\n",
    "for i in range(os.cpu_count()):\n",
    "    processes.append(mp.Process(target = fu, args =(i,i)))\n",
    "for process in processes:\n",
    "    process.start()\n",
    "for process in processes:\n",
    "    process.join()"
   ]
  },
  {
   "cell_type": "code",
   "execution_count": 44,
   "id": "d5f80833",
   "metadata": {},
   "outputs": [
    {
     "name": "stdout",
     "output_type": "stream",
     "text": [
      "119 ms ± 686 µs per loop (mean ± std. dev. of 7 runs, 10 loops each)\n"
     ]
    }
   ],
   "source": [
    "%%timeit\n",
    "res = mp.Pool().map(fun2, range(points.shape[0]))\n",
    "p = np.array(res)"
   ]
  },
  {
   "cell_type": "code",
   "execution_count": 42,
   "id": "c97d4c0a",
   "metadata": {},
   "outputs": [
    {
     "data": {
      "text/plain": [
       "array([[ 1.66666667+0.j,  1.66666667+0.j,  1.66666667+0.j],\n",
       "       [ 1.66666667+0.j,  1.66666667+0.j,  1.2962963 +0.j],\n",
       "       [ 1.66666667+0.j,  1.66666667+0.j,  0.92592593+0.j],\n",
       "       ...,\n",
       "       [-1.66666667+0.j, -1.66666667+0.j, -0.92592593+0.j],\n",
       "       [-1.66666667+0.j, -1.66666667+0.j, -1.2962963 +0.j],\n",
       "       [-1.66666667+0.j, -1.66666667+0.j, -1.66666667+0.j]])"
      ]
     },
     "execution_count": 42,
     "metadata": {},
     "output_type": "execute_result"
    }
   ],
   "source": [
    "p"
   ]
  },
  {
   "cell_type": "code",
   "execution_count": 31,
   "id": "9f4228aa",
   "metadata": {},
   "outputs": [
    {
     "name": "stdout",
     "output_type": "stream",
     "text": [
      "CPU times: user 6.22 ms, sys: 65 ms, total: 71.2 ms\n",
      "Wall time: 156 ms\n"
     ]
    }
   ],
   "source": [
    "%%time\n",
    "with mp.Pool() as pool:\n",
    "    pool.map(fun, range(points.shape[0]))"
   ]
  },
  {
   "cell_type": "code",
   "execution_count": 33,
   "id": "3c68287a",
   "metadata": {},
   "outputs": [],
   "source": [
    "foo = 1\n",
    "def test():\n",
    "    foo = 2 # new local foo\n",
    "\n",
    "def blub():\n",
    "    global foo\n",
    "    foo = 3 # changes the value of the global foo\n"
   ]
  },
  {
   "cell_type": "code",
   "execution_count": 34,
   "id": "4fdfc4f3",
   "metadata": {},
   "outputs": [
    {
     "data": {
      "text/plain": [
       "1"
      ]
     },
     "execution_count": 34,
     "metadata": {},
     "output_type": "execute_result"
    }
   ],
   "source": [
    "foo"
   ]
  },
  {
   "cell_type": "code",
   "execution_count": 56,
   "id": "6fd0063f",
   "metadata": {},
   "outputs": [
    {
     "data": {
      "text/plain": [
       "83"
      ]
     },
     "execution_count": 56,
     "metadata": {},
     "output_type": "execute_result"
    }
   ],
   "source": [
    "points.shape[0]//os.cpu_count()"
   ]
  },
  {
   "cell_type": "code",
   "execution_count": null,
   "id": "4326b69d",
   "metadata": {},
   "outputs": [],
   "source": []
  }
 ],
 "metadata": {
  "kernelspec": {
   "display_name": "Python 3 (ipykernel)",
   "language": "python",
   "name": "python3"
  },
  "language_info": {
   "codemirror_mode": {
    "name": "ipython",
    "version": 3
   },
   "file_extension": ".py",
   "mimetype": "text/x-python",
   "name": "python",
   "nbconvert_exporter": "python",
   "pygments_lexer": "ipython3",
   "version": "3.10.2"
  }
 },
 "nbformat": 4,
 "nbformat_minor": 5
}
