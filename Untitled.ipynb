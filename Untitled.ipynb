{
 "cells": [
  {
   "cell_type": "code",
   "execution_count": 1,
   "id": "685d5244",
   "metadata": {},
   "outputs": [
    {
     "name": "stdout",
     "output_type": "stream",
     "text": [
      "%pylab is deprecated, use %matplotlib inline and import the required libraries.\n",
      "Populating the interactive namespace from numpy and matplotlib\n"
     ]
    }
   ],
   "source": [
    "%pylab inline"
   ]
  },
  {
   "cell_type": "code",
   "execution_count": 225,
   "id": "3e6ee283",
   "metadata": {},
   "outputs": [],
   "source": [
    "from cga_py import *\n",
    "from numba import jit, njit, prange\n",
    "import numba as nb\n",
    "import multiprocessing as mp\n",
    "import joblib as jl"
   ]
  },
  {
   "cell_type": "code",
   "execution_count": 226,
   "id": "f1b1b46a",
   "metadata": {},
   "outputs": [],
   "source": [
    "@njit(parallel = True, cache = True)\n",
    "def generate_points (start, end, subd):\n",
    "    points = np.linspace(start, end, subd)\n",
    "    plot_points = np.zeros((subd**3,3))\n",
    "    colors = np.ones((subd**3,4))\n",
    "    for x in prange(subd):\n",
    "        for y in range(subd):\n",
    "            for z in range(subd):\n",
    "                plot_points[subd*subd*x+subd*y+z,0] = points[x]\n",
    "                plot_points[subd*subd*x+subd*y+z,1] = points[y]\n",
    "                plot_points[subd*subd*x+subd*y+z,2] = points[z]\n",
    "                colors[subd*subd*x+subd*y+z,0] = points[x]\n",
    "                colors[subd*subd*x+subd*y+z,1] = points[y]\n",
    "                colors[subd*subd*x+subd*y+z,2] = points[z]\n",
    "    return plot_points, ((colors-start)/(end-start))"
   ]
  },
  {
   "cell_type": "code",
   "execution_count": 282,
   "id": "274da492",
   "metadata": {},
   "outputs": [],
   "source": [
    "def point_p_act(points, param, poly):\n",
    "    p = points.copy()\n",
    "    indices = np.arange(p.shape[0])\n",
    "    def fun (i):\n",
    "        p[i] = point_to_cartesian(poly_act(param, poly, point(p[i])))\n",
    "        #return point_to_cartesian(poly_act(param, poly, point(p[i])))\n",
    "    \n",
    "    #for i in range(p.shape[0]):\n",
    "        #p[i] = point_to_cartesian(poly_act(param, poly, point(p[i])))\n",
    "        #fun(i)\n",
    "        \n",
    "        \n",
    "    \n",
    "    np.vectorize(fun)(range(p.shape[0]))\n",
    "    #map(fun,indices)\n",
    "    #mp.Pool().map_async(fun,range(1000))\n",
    "    #jl.Parallel(n_jobs=12)(jl.delayed(fun)(i) for i in range(p.shape[0]))\n",
    "    return p"
   ]
  },
  {
   "cell_type": "code",
   "execution_count": 283,
   "id": "ff501572",
   "metadata": {},
   "outputs": [],
   "source": [
    "points, cols = generate_points(-1,1,10)\n",
    "points = np.array(points,dtype = complex)"
   ]
  },
  {
   "cell_type": "code",
   "execution_count": 284,
   "id": "c8c2df6d",
   "metadata": {},
   "outputs": [],
   "source": [
    "q = iso_scale(point([0,0,0]))"
   ]
  },
  {
   "cell_type": "code",
   "execution_count": 285,
   "id": "b19df96f",
   "metadata": {},
   "outputs": [
    {
     "name": "stdout",
     "output_type": "stream",
     "text": [
      "[[-2.77777778+0.j -2.77777778+0.j -2.77777778+0.j]\n",
      " [ 1.66666667+0.j  1.66666667+0.j  1.2962963 +0.j]\n",
      " [ 1.66666667+0.j  1.66666667+0.j  0.92592593+0.j]\n",
      " ...\n",
      " [-1.66666667+0.j -1.66666667+0.j -0.92592593+0.j]\n",
      " [-1.66666667+0.j -1.66666667+0.j -1.2962963 +0.j]\n",
      " [-1.66666667+0.j -1.66666667+0.j -1.66666667+0.j]]\n",
      "CPU times: user 337 ms, sys: 3.22 ms, total: 340 ms\n",
      "Wall time: 339 ms\n"
     ]
    }
   ],
   "source": [
    "%%time\n",
    "y = point_p_act(points,4,[1,q])\n",
    "print(y)"
   ]
  },
  {
   "cell_type": "code",
   "execution_count": 265,
   "id": "95361428",
   "metadata": {
    "scrolled": true
   },
   "outputs": [
    {
     "data": {
      "text/plain": [
       "array([[-1.        +0.j, -1.        +0.j, -1.        +0.j],\n",
       "       [-1.        +0.j, -1.        +0.j, -0.77777778+0.j],\n",
       "       [-1.        +0.j, -1.        +0.j, -0.55555556+0.j],\n",
       "       ...,\n",
       "       [ 1.        +0.j,  1.        +0.j,  0.55555556+0.j],\n",
       "       [ 1.        +0.j,  1.        +0.j,  0.77777778+0.j],\n",
       "       [ 1.        +0.j,  1.        +0.j,  1.        +0.j]])"
      ]
     },
     "execution_count": 265,
     "metadata": {},
     "output_type": "execute_result"
    }
   ],
   "source": [
    "points"
   ]
  },
  {
   "cell_type": "code",
   "execution_count": 96,
   "id": "f2b9aedf",
   "metadata": {
    "scrolled": true
   },
   "outputs": [
    {
     "name": "stdout",
     "output_type": "stream",
     "text": [
      "[[-1.        +0.j -1.        +0.j -1.        +0.j]\n",
      " [-1.        +0.j -1.        +0.j -0.77777778+0.j]\n",
      " [-1.        +0.j -1.        +0.j -0.55555556+0.j]\n",
      " ...\n",
      " [ 1.        +0.j  1.        +0.j  0.55555556+0.j]\n",
      " [ 1.        +0.j  1.        +0.j  0.77777778+0.j]\n",
      " [ 1.        +0.j  1.        +0.j  1.        +0.j]]\n"
     ]
    }
   ],
   "source": []
  },
  {
   "cell_type": "code",
   "execution_count": 181,
   "id": "0cc431df",
   "metadata": {},
   "outputs": [
    {
     "data": {
      "text/plain": [
       "array([ 0,  1,  2,  3,  4,  5,  6,  7,  8,  9, 10, 11, 12, 13, 14, 15, 16,\n",
       "       17, 18, 19])"
      ]
     },
     "execution_count": 181,
     "metadata": {},
     "output_type": "execute_result"
    }
   ],
   "source": [
    "x = np.arange(20)\n",
    "def fun(i):\n",
    "    global x\n",
    "    x[i] = x[i]**2\n",
    "    return x[i]\n",
    "\n",
    "res = map(fun,range(20))\n",
    "x"
   ]
  },
  {
   "cell_type": "code",
   "execution_count": 176,
   "id": "d90ebae7",
   "metadata": {},
   "outputs": [],
   "source": [
    "for i in range(20):\n",
    "    x[i] = x[i]**2"
   ]
  },
  {
   "cell_type": "code",
   "execution_count": 177,
   "id": "de090fd0",
   "metadata": {},
   "outputs": [
    {
     "data": {
      "text/plain": [
       "array([     0,      1,     16,     81,    256,    625,   1296,   2401,\n",
       "         4096,   6561,  10000,  14641,  20736,  28561,  38416,  50625,\n",
       "        65536,  83521, 104976, 130321])"
      ]
     },
     "execution_count": 177,
     "metadata": {},
     "output_type": "execute_result"
    }
   ],
   "source": [
    "np.vectorize(fun)(range(20))\n"
   ]
  },
  {
   "cell_type": "code",
   "execution_count": 183,
   "id": "223fc071",
   "metadata": {},
   "outputs": [
    {
     "name": "stdout",
     "output_type": "stream",
     "text": [
      "[0, 1, 4, 9, 16, 25, 36, 49, 64, 81, 100, 121, 144, 169, 196, 225, 256, 289, 324, 361]\n"
     ]
    }
   ],
   "source": [
    "print(mp.Pool().map(fun,range(20)))"
   ]
  },
  {
   "cell_type": "code",
   "execution_count": 154,
   "id": "46c1279c",
   "metadata": {},
   "outputs": [
    {
     "data": {
      "text/plain": [
       "array([ 0,  1,  2,  3,  4,  5,  6,  7,  8,  9, 10, 11, 12, 13, 14, 15, 16,\n",
       "       17, 18, 19])"
      ]
     },
     "execution_count": 154,
     "metadata": {},
     "output_type": "execute_result"
    }
   ],
   "source": [
    "x"
   ]
  },
  {
   "cell_type": "code",
   "execution_count": null,
   "id": "5fd54391",
   "metadata": {},
   "outputs": [],
   "source": []
  }
 ],
 "metadata": {
  "kernelspec": {
   "display_name": "Python 3 (ipykernel)",
   "language": "python",
   "name": "python3"
  },
  "language_info": {
   "codemirror_mode": {
    "name": "ipython",
    "version": 3
   },
   "file_extension": ".py",
   "mimetype": "text/x-python",
   "name": "python",
   "nbconvert_exporter": "python",
   "pygments_lexer": "ipython3",
   "version": "3.10.2"
  }
 },
 "nbformat": 4,
 "nbformat_minor": 5
}
